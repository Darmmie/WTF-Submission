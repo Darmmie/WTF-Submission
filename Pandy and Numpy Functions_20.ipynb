{
 "cells": [
  {
   "cell_type": "code",
   "execution_count": null,
   "id": "c429ec0b",
   "metadata": {},
   "outputs": [],
   "source": [
    "#write down 20 in built method on pandas and 20 on numpy with examples each."
   ]
  },
  {
   "cell_type": "code",
   "execution_count": 1,
   "id": "d6f60bea",
   "metadata": {},
   "outputs": [],
   "source": [
    "#write down 20 in built method on pandas with examples each."
   ]
  },
  {
   "cell_type": "code",
   "execution_count": null,
   "id": "7026e2dc",
   "metadata": {},
   "outputs": [],
   "source": [
    "import pandas as pd\n",
    "df = pd.DataFrame{\"Name\": [\"Alo\", \"Roh\", \"Bim\", \"Rah\", \"Cha\", \"Viv\"], \"Age\": [29, 23, 35, 25, 32, 38], \n",
    "                  \"State\": [\"Lisbon\", \"Algav\", \"Vila-Rel\", \"Liera\", \"Manderia\", \"Lagos\", \"porto\"], \n",
    "                  \"Gender\": [\"Female\", \"male\", \"Female\", \"Male\", \"Male\", \"Female\"], \"Salary\": [2000,1500,1700,1300,1900,2500]}\n",
    "df"
   ]
  },
  {
   "cell_type": "code",
   "execution_count": null,
   "id": "4fdaf505",
   "metadata": {},
   "outputs": [],
   "source": []
  },
  {
   "cell_type": "code",
   "execution_count": 2,
   "id": "26780a0d",
   "metadata": {},
   "outputs": [],
   "source": [
    "# 1. read_csv() function helps read a comma-separated values (csv) file into a Pandas DataFrame. "
   ]
  },
  {
   "cell_type": "code",
   "execution_count": null,
   "id": "bd248dbc",
   "metadata": {},
   "outputs": [],
   "source": [
    "# 2. head(n) is used to return the first n rows of a dataset. By default, df.head() will return the first 5 rows of the DataFrame. \n",
    "#If you want more/less number of rows, you can specify n as an integer. e.g\n",
    "data_1.head(6)"
   ]
  },
  {
   "cell_type": "code",
   "execution_count": null,
   "id": "bff74f48",
   "metadata": {},
   "outputs": [],
   "source": [
    "# 3. describe() is used to generate descriptive statistics of the data in a Pandas DataFrame or Series.\n",
    "# It summarizes central tendency and dispersion of the dataset. describe() helps in getting a quick overview of the dataset.e.g:\n",
    "data_1.describe()"
   ]
  },
  {
   "cell_type": "code",
   "execution_count": null,
   "id": "afea97f2",
   "metadata": {},
   "outputs": [],
   "source": [
    "# 4. memory_usage() returns a Pandas Series having the memory usage of each column (in bytes) in a Pandas DataFrame. \n",
    "# By specifying the deep attribute as True, we can get to know the actual space being taken by each column e.g:\n",
    "data_1.memory_usage(deep=True)"
   ]
  },
  {
   "cell_type": "code",
   "execution_count": null,
   "id": "0e95af17",
   "metadata": {},
   "outputs": [],
   "source": [
    "# 5. astype() is used to cast a Python object to a particular data type. \n",
    "# It can be a very helpful function in case your data is not stored in the correct format (data type). e.g:\n",
    "data_1['Gender'] = data_1.Gender.astype('category')"
   ]
  },
  {
   "cell_type": "code",
   "execution_count": null,
   "id": "f0c75e3d",
   "metadata": {},
   "outputs": [],
   "source": [
    "# 6. loc[:] helps to access a group of rows and columns in a dataset, a slice of the dataset, as per our requirement. \n",
    "#For instance, if we only want the last 2 rows and the first 3 columns of a dataset, we can access them with the help of loc[:].\n",
    "data_1.loc[0:4, ['Name', 'Age', 'State']]"
   ]
  },
  {
   "cell_type": "code",
   "execution_count": null,
   "id": "a5d470b5",
   "metadata": {},
   "outputs": [],
   "source": [
    "# 7. to_datetime() converts a Python object to datetime format. It can take an integer, floating point number, list, Pandas Series, or Pandas DataFrame as argument. \n",
    "# to_datetime() is very powerful when the dataset has time series values or dates.\n",
    "data_1['DOB'] = pd.to_datetime(data_1['DOB'])"
   ]
  },
  {
   "cell_type": "code",
   "execution_count": null,
   "id": "4f12054e",
   "metadata": {},
   "outputs": [],
   "source": [
    "# 8. value_counts() returns a Pandas Series containing the counts of unique values.\n",
    "#value_counts() will help us in identifying the number of occurrences of each unique value in a Series.\n",
    "data_1['State'].value_counts()"
   ]
  },
  {
   "cell_type": "code",
   "execution_count": null,
   "id": "66c89a51",
   "metadata": {},
   "outputs": [],
   "source": [
    "# 9. drop_duplicates() returns a Pandas DataFrame with duplicate rows removed. \n",
    "# Even among duplicates, there is an option to keep the first occurrence (record) of the duplicate or the last.\n",
    "data_1.drop_duplicates(inplace=True)"
   ]
  },
  {
   "cell_type": "code",
   "execution_count": null,
   "id": "da14847d",
   "metadata": {},
   "outputs": [],
   "source": [
    "# 10. merge() is used to merge 2 Pandas DataFrame objects or a DataFrame and a Series object on a common column (field) e.g:\n",
    "data_1.merge(data_2, on='Name', how='left')"
   ]
  },
  {
   "cell_type": "code",
   "execution_count": null,
   "id": "8aa9dcbf",
   "metadata": {},
   "outputs": [],
   "source": [
    "# 11. groupby() is used to group a Pandas DataFrame by 1 or more columns, and perform some mathematical operation on it. \n",
    "# groupby() can be used to summarize data in a simple manner.e.g:\n",
    "\n",
    "data_1.groupby(by='State').Salary.mean()"
   ]
  },
  {
   "cell_type": "code",
   "execution_count": null,
   "id": "e9261dcb",
   "metadata": {},
   "outputs": [],
   "source": [
    "# 12. sort_values() is used to sort column in a Pandas DataFrame (or a Pandas Series) by values in ascending or descending order. \n",
    "# By specifying the inplace attribute as True, you can make a change directly in the original DataFrame. e.g:\n",
    "\n",
    "data_1.sort_values(by='Name', inplace=True)"
   ]
  },
  {
   "cell_type": "code",
   "execution_count": null,
   "id": "2de32bec",
   "metadata": {},
   "outputs": [],
   "source": [
    "# 13. fillna() helps to replace all NaN values in a DataFrame or Series by imputing these missing values with more appropriate values.\n",
    "#NaN stands for “not a number”, and represents entries that were not populated in the original data source. \n",
    "#While populating the values in the DataFrame, Pandas makes sure that these entries can be identified separately by the user\n",
    "\n",
    "data_1['City temp'].fillna(38.5, inplace=True)"
   ]
  },
  {
   "cell_type": "code",
   "execution_count": null,
   "id": "e066a472",
   "metadata": {},
   "outputs": [],
   "source": [
    "# 14. To create a DataFrame\n",
    "import pandas as pd\n",
    "\n",
    "df = pd.DataFrame({\"col1\": [\"A0\", \"A1\", \"A0\", \"A2\", \"A0\", \"A1\"], \"col2\": [1,2,3,4,5,6]})\n",
    "df= column\n",
    "column"
   ]
  },
  {
   "cell_type": "code",
   "execution_count": 37,
   "id": "50421351",
   "metadata": {},
   "outputs": [
    {
     "data": {
      "text/html": [
       "<div>\n",
       "<style scoped>\n",
       "    .dataframe tbody tr th:only-of-type {\n",
       "        vertical-align: middle;\n",
       "    }\n",
       "\n",
       "    .dataframe tbody tr th {\n",
       "        vertical-align: top;\n",
       "    }\n",
       "\n",
       "    .dataframe thead th {\n",
       "        text-align: right;\n",
       "    }\n",
       "</style>\n",
       "<table border=\"1\" class=\"dataframe\">\n",
       "  <thead>\n",
       "    <tr style=\"text-align: right;\">\n",
       "      <th></th>\n",
       "      <th>col1</th>\n",
       "      <th>col2</th>\n",
       "    </tr>\n",
       "  </thead>\n",
       "  <tbody>\n",
       "    <tr>\n",
       "      <th>0</th>\n",
       "      <td>A0</td>\n",
       "      <td>1</td>\n",
       "    </tr>\n",
       "    <tr>\n",
       "      <th>1</th>\n",
       "      <td>A1</td>\n",
       "      <td>2</td>\n",
       "    </tr>\n",
       "    <tr>\n",
       "      <th>2</th>\n",
       "      <td>A0</td>\n",
       "      <td>3</td>\n",
       "    </tr>\n",
       "    <tr>\n",
       "      <th>3</th>\n",
       "      <td>A2</td>\n",
       "      <td>4</td>\n",
       "    </tr>\n",
       "    <tr>\n",
       "      <th>4</th>\n",
       "      <td>A0</td>\n",
       "      <td>5</td>\n",
       "    </tr>\n",
       "    <tr>\n",
       "      <th>5</th>\n",
       "      <td>A1</td>\n",
       "      <td>6</td>\n",
       "    </tr>\n",
       "  </tbody>\n",
       "</table>\n",
       "</div>"
      ],
      "text/plain": [
       "  col1  col2\n",
       "0   A0     1\n",
       "1   A1     2\n",
       "2   A0     3\n",
       "3   A2     4\n",
       "4   A0     5\n",
       "5   A1     6"
      ]
     },
     "execution_count": 37,
     "metadata": {},
     "output_type": "execute_result"
    }
   ],
   "source": [
    "df"
   ]
  },
  {
   "cell_type": "code",
   "execution_count": 17,
   "id": "625eeeb7",
   "metadata": {},
   "outputs": [],
   "source": [
    "\n",
    "df = pd.DataFrame\n",
    "data_2=({\"names\": [\"Ren\", \"Ayo\", \"Aki\", \"Zet\", \"Kin\", \"Box\"], \"age\": [32, 36, 14, 25, 48, 29], \"height\": [5, 6, 5.2, 6.4, 5.7, 6]})\n",
    "df=pd.DataFrame (data_2)\n"
   ]
  },
  {
   "cell_type": "code",
   "execution_count": 43,
   "id": "cf745260",
   "metadata": {},
   "outputs": [
    {
     "data": {
      "text/html": [
       "<div>\n",
       "<style scoped>\n",
       "    .dataframe tbody tr th:only-of-type {\n",
       "        vertical-align: middle;\n",
       "    }\n",
       "\n",
       "    .dataframe tbody tr th {\n",
       "        vertical-align: top;\n",
       "    }\n",
       "\n",
       "    .dataframe thead th {\n",
       "        text-align: right;\n",
       "    }\n",
       "</style>\n",
       "<table border=\"1\" class=\"dataframe\">\n",
       "  <thead>\n",
       "    <tr style=\"text-align: right;\">\n",
       "      <th></th>\n",
       "      <th>col1</th>\n",
       "      <th>col2</th>\n",
       "    </tr>\n",
       "  </thead>\n",
       "  <tbody>\n",
       "    <tr>\n",
       "      <th>0</th>\n",
       "      <td>A0</td>\n",
       "      <td>1</td>\n",
       "    </tr>\n",
       "    <tr>\n",
       "      <th>1</th>\n",
       "      <td>A1</td>\n",
       "      <td>2</td>\n",
       "    </tr>\n",
       "    <tr>\n",
       "      <th>2</th>\n",
       "      <td>A0</td>\n",
       "      <td>3</td>\n",
       "    </tr>\n",
       "    <tr>\n",
       "      <th>3</th>\n",
       "      <td>A2</td>\n",
       "      <td>4</td>\n",
       "    </tr>\n",
       "    <tr>\n",
       "      <th>4</th>\n",
       "      <td>A0</td>\n",
       "      <td>5</td>\n",
       "    </tr>\n",
       "    <tr>\n",
       "      <th>5</th>\n",
       "      <td>A1</td>\n",
       "      <td>6</td>\n",
       "    </tr>\n",
       "  </tbody>\n",
       "</table>\n",
       "</div>"
      ],
      "text/plain": [
       "  col1  col2\n",
       "0   A0     1\n",
       "1   A1     2\n",
       "2   A0     3\n",
       "3   A2     4\n",
       "4   A0     5\n",
       "5   A1     6"
      ]
     },
     "execution_count": 43,
     "metadata": {},
     "output_type": "execute_result"
    }
   ],
   "source": [
    "df"
   ]
  },
  {
   "cell_type": "code",
   "execution_count": null,
   "id": "f67cc89a",
   "metadata": {},
   "outputs": [],
   "source": [
    "# 15. iloc to retieve a column value from a DataFrame\n",
    "\n",
    "# To retrieve the first column value\n",
    "df.iloc[0].names\n",
    "# To retrieve the last column value\n",
    "df.iloc[-1].names"
   ]
  },
  {
   "cell_type": "code",
   "execution_count": 44,
   "id": "091cc449",
   "metadata": {},
   "outputs": [
    {
     "data": {
      "text/plain": [
       "names\n",
       "Aki    14\n",
       "Ayo    36\n",
       "Box    29\n",
       "Kin    48\n",
       "Ren    30\n",
       "Zet    25\n",
       "Name: age, dtype: int64"
      ]
     },
     "execution_count": 44,
     "metadata": {},
     "output_type": "execute_result"
    }
   ],
   "source": [
    "# 16. To create a DataFrame from a Panda series\n",
    "df = pd.DataFrame(\n",
    "    {\n",
    "        \"names\": [\"Ren\", \"Ayo\", \"Aki\", \"Zet\", \"Kin\", \"Box\"], \n",
    "        \"age\": [30, 36, 14, 25, 48, 29], \n",
    "        \"height\": [9, 6, 5.2, 6.4, 5.7, 6],\n",
    "        \"Entry\": [1, 2, 3, 4, 5, 6],\n",
    "    }\n",
    ")\n",
    "df_group = df.groupby(\"names\").age.sum()\n",
    "df_group\n"
   ]
  },
  {
   "cell_type": "code",
   "execution_count": 45,
   "id": "20b4a93e",
   "metadata": {},
   "outputs": [
    {
     "data": {
      "text/html": [
       "<div>\n",
       "<style scoped>\n",
       "    .dataframe tbody tr th:only-of-type {\n",
       "        vertical-align: middle;\n",
       "    }\n",
       "\n",
       "    .dataframe tbody tr th {\n",
       "        vertical-align: top;\n",
       "    }\n",
       "\n",
       "    .dataframe thead th {\n",
       "        text-align: right;\n",
       "    }\n",
       "</style>\n",
       "<table border=\"1\" class=\"dataframe\">\n",
       "  <thead>\n",
       "    <tr style=\"text-align: right;\">\n",
       "      <th></th>\n",
       "      <th>names</th>\n",
       "      <th>age</th>\n",
       "      <th>height</th>\n",
       "      <th>Entry</th>\n",
       "    </tr>\n",
       "  </thead>\n",
       "  <tbody>\n",
       "    <tr>\n",
       "      <th>0</th>\n",
       "      <td>Ren</td>\n",
       "      <td>30</td>\n",
       "      <td>9.0</td>\n",
       "      <td>1</td>\n",
       "    </tr>\n",
       "    <tr>\n",
       "      <th>1</th>\n",
       "      <td>Ayo</td>\n",
       "      <td>36</td>\n",
       "      <td>6.0</td>\n",
       "      <td>2</td>\n",
       "    </tr>\n",
       "    <tr>\n",
       "      <th>2</th>\n",
       "      <td>Aki</td>\n",
       "      <td>14</td>\n",
       "      <td>5.2</td>\n",
       "      <td>3</td>\n",
       "    </tr>\n",
       "    <tr>\n",
       "      <th>3</th>\n",
       "      <td>Zet</td>\n",
       "      <td>25</td>\n",
       "      <td>6.4</td>\n",
       "      <td>4</td>\n",
       "    </tr>\n",
       "    <tr>\n",
       "      <th>4</th>\n",
       "      <td>Kin</td>\n",
       "      <td>48</td>\n",
       "      <td>5.7</td>\n",
       "      <td>5</td>\n",
       "    </tr>\n",
       "    <tr>\n",
       "      <th>5</th>\n",
       "      <td>Box</td>\n",
       "      <td>29</td>\n",
       "      <td>6.0</td>\n",
       "      <td>6</td>\n",
       "    </tr>\n",
       "  </tbody>\n",
       "</table>\n",
       "</div>"
      ],
      "text/plain": [
       "  names  age  height  Entry\n",
       "0   Ren   30     9.0      1\n",
       "1   Ayo   36     6.0      2\n",
       "2   Aki   14     5.2      3\n",
       "3   Zet   25     6.4      4\n",
       "4   Kin   48     5.7      5\n",
       "5   Box   29     6.0      6"
      ]
     },
     "execution_count": 45,
     "metadata": {},
     "output_type": "execute_result"
    }
   ],
   "source": [
    "df"
   ]
  },
  {
   "cell_type": "code",
   "execution_count": 46,
   "id": "39ef7656",
   "metadata": {},
   "outputs": [
    {
     "data": {
      "text/html": [
       "<div>\n",
       "<style scoped>\n",
       "    .dataframe tbody tr th:only-of-type {\n",
       "        vertical-align: middle;\n",
       "    }\n",
       "\n",
       "    .dataframe tbody tr th {\n",
       "        vertical-align: top;\n",
       "    }\n",
       "\n",
       "    .dataframe thead th {\n",
       "        text-align: right;\n",
       "    }\n",
       "</style>\n",
       "<table border=\"1\" class=\"dataframe\">\n",
       "  <thead>\n",
       "    <tr style=\"text-align: right;\">\n",
       "      <th></th>\n",
       "      <th>age</th>\n",
       "    </tr>\n",
       "    <tr>\n",
       "      <th>names</th>\n",
       "      <th></th>\n",
       "    </tr>\n",
       "  </thead>\n",
       "  <tbody>\n",
       "    <tr>\n",
       "      <th>Aki</th>\n",
       "      <td>14</td>\n",
       "    </tr>\n",
       "    <tr>\n",
       "      <th>Ayo</th>\n",
       "      <td>36</td>\n",
       "    </tr>\n",
       "    <tr>\n",
       "      <th>Box</th>\n",
       "      <td>29</td>\n",
       "    </tr>\n",
       "    <tr>\n",
       "      <th>Kin</th>\n",
       "      <td>48</td>\n",
       "    </tr>\n",
       "    <tr>\n",
       "      <th>Ren</th>\n",
       "      <td>30</td>\n",
       "    </tr>\n",
       "    <tr>\n",
       "      <th>Zet</th>\n",
       "      <td>25</td>\n",
       "    </tr>\n",
       "  </tbody>\n",
       "</table>\n",
       "</div>"
      ],
      "text/plain": [
       "       age\n",
       "names     \n",
       "Aki     14\n",
       "Ayo     36\n",
       "Box     29\n",
       "Kin     48\n",
       "Ren     30\n",
       "Zet     25"
      ]
     },
     "execution_count": 46,
     "metadata": {},
     "output_type": "execute_result"
    }
   ],
   "source": [
    "df_group.to_frame()\n"
   ]
  },
  {
   "cell_type": "code",
   "execution_count": 53,
   "id": "68b3eb98",
   "metadata": {},
   "outputs": [
    {
     "data": {
      "text/plain": [
       "names      object\n",
       "age         int64\n",
       "height    float64\n",
       "Entry       int64\n",
       "dtype: object"
      ]
     },
     "execution_count": 53,
     "metadata": {},
     "output_type": "execute_result"
    }
   ],
   "source": [
    "# 17. Dtypes shows the data type of each column\n",
    "df.dtypes"
   ]
  },
  {
   "cell_type": "code",
   "execution_count": 55,
   "id": "ad8fc8e1",
   "metadata": {},
   "outputs": [
    {
     "data": {
      "text/plain": [
       "(6, 2)"
      ]
     },
     "execution_count": 55,
     "metadata": {},
     "output_type": "execute_result"
    }
   ],
   "source": [
    "# 18. Shape and Size Since dataframes are two-dimensional, what shape returns is the number of rows and columns. It is a measure of how much data we have and a key input to the data analysis process.\n",
    "df.shape"
   ]
  },
  {
   "cell_type": "code",
   "execution_count": 56,
   "id": "54298a7c",
   "metadata": {},
   "outputs": [
    {
     "data": {
      "text/plain": [
       "12"
      ]
     },
     "execution_count": 56,
     "metadata": {},
     "output_type": "execute_result"
    }
   ],
   "source": [
    "#Size, as the name suggests, returns the size of a dataframe which is the number of rows multiplied by the number of columns.\n",
    "\n",
    "\n",
    "df.size"
   ]
  },
  {
   "cell_type": "code",
   "execution_count": 57,
   "id": "fbb1bb09",
   "metadata": {},
   "outputs": [
    {
     "data": {
      "text/plain": [
       "col1    False\n",
       "col2    False\n",
       "dtype: bool"
      ]
     },
     "execution_count": 57,
     "metadata": {},
     "output_type": "execute_result"
    }
   ],
   "source": [
    "# 19. Isna function returns a dataframe filled with boolean values with true indicating missing values.\n",
    "df.isna().any()"
   ]
  },
  {
   "cell_type": "code",
   "execution_count": 58,
   "id": "95f4c4d2",
   "metadata": {},
   "outputs": [
    {
     "data": {
      "text/plain": [
       "col1    0\n",
       "col2    0\n",
       "dtype: int64"
      ]
     },
     "execution_count": 58,
     "metadata": {},
     "output_type": "execute_result"
    }
   ],
   "source": [
    "# 20. Identifying Missing Values Sum\n",
    "df.isnull().sum()"
   ]
  },
  {
   "cell_type": "code",
   "execution_count": 59,
   "id": "e2e5bb80",
   "metadata": {},
   "outputs": [
    {
     "data": {
      "text/plain": [
       "RangeIndex(start=0, stop=6, step=1)"
      ]
     },
     "execution_count": 59,
     "metadata": {},
     "output_type": "execute_result"
    }
   ],
   "source": [
    "# 21. index() is an inbuilt function in Python, which searches for a given element from the start of the list and returns the lowest index where the element appears.\n",
    "df.index"
   ]
  },
  {
   "cell_type": "code",
   "execution_count": 67,
   "id": "4ae0664e",
   "metadata": {},
   "outputs": [
    {
     "name": "stdout",
     "output_type": "stream",
     "text": [
      "[1 2 3 4 5 6]\n",
      "[1 2 3 4]\n"
     ]
    }
   ],
   "source": [
    "# 1. Array: It is used to create an array from scratch or convert a list or pandas series object to an array.\n",
    "import numpy as np\n",
    "import pandas as pd\n",
    "print(np.array ( [ 1, 2, 3, 4, 5, 6 ] ))\n",
    "print(np.array(pd.Series([ 1, 2, 3, 4])))\n"
   ]
  },
  {
   "cell_type": "code",
   "execution_count": null,
   "id": "7fe1d291",
   "metadata": {},
   "outputs": [],
   "source": [
    "# 2. Arange creates an array in a range with a specified increment.eg\n",
    "np.arange(2, 10, 2)\n",
    "array([2, 4, 6, 8])\n",
    "\n",
    "np.arrange(0, 20, 5)\n",
    "array([0, 5, 10, 15])"
   ]
  },
  {
   "cell_type": "code",
   "execution_count": null,
   "id": "07e64cfa",
   "metadata": {},
   "outputs": [],
   "source": [
    "# 3. Linspace creates an array in a specified range with equidistant elements.\n",
    "\n",
    "np.linspace(0, 20, 10)\n"
   ]
  },
  {
   "cell_type": "code",
   "execution_count": 80,
   "id": "6f66c506",
   "metadata": {},
   "outputs": [
    {
     "data": {
      "text/plain": [
       "(array([1, 2, 3]), array([3, 2, 1], dtype=int64))"
      ]
     },
     "execution_count": 80,
     "metadata": {},
     "output_type": "execute_result"
    }
   ],
   "source": [
    "#4. Unique returns the number of unique elements in an array. eg.\n",
    "a=np.array([1,1,1,2,2,3])\n",
    "np.unique(a)\n",
    "np.unique(a, return_counts=True)\n"
   ]
  },
  {
   "cell_type": "code",
   "execution_count": 73,
   "id": "881985ef",
   "metadata": {},
   "outputs": [
    {
     "data": {
      "text/plain": [
       "array([[9, 6, 3],\n",
       "       [9, 8, 7],\n",
       "       [4, 7, 1],\n",
       "       [8, 9, 1]])"
      ]
     },
     "execution_count": 73,
     "metadata": {},
     "output_type": "execute_result"
    }
   ],
   "source": [
    "#5 Argmax and argmin return the indices of maximum and minimum values along an axis.\n",
    "\n",
    "A = np.random.randint(10,size=(4,3))\n",
    "A"
   ]
  },
  {
   "cell_type": "code",
   "execution_count": 74,
   "id": "a3f5c4ea",
   "metadata": {},
   "outputs": [
    {
     "data": {
      "text/plain": [
       "array([0.44677392, 0.25034705, 0.2528519 , 0.7383943 ])"
      ]
     },
     "execution_count": 74,
     "metadata": {},
     "output_type": "execute_result"
    }
   ],
   "source": [
    "# 6.  Random.random creates an array with random floats between 0 and 1. Same operation can be done with the random_sample function as well.\n",
    "\n",
    "np.random.random(size=4)"
   ]
  },
  {
   "cell_type": "code",
   "execution_count": 77,
   "id": "4cb1050d",
   "metadata": {},
   "outputs": [
    {
     "data": {
      "text/plain": [
       "array([[5, 8, 9, 0],\n",
       "       [9, 2, 5, 6],\n",
       "       [7, 2, 1, 8]])"
      ]
     },
     "execution_count": 77,
     "metadata": {},
     "output_type": "execute_result"
    }
   ],
   "source": [
    "#7. Random.randint creates an array of integers in any shape.\n",
    "array=([1,1,1,3,0,])\n",
    "np.random.randint(10, size=(3,4))"
   ]
  },
  {
   "cell_type": "code",
   "execution_count": 82,
   "id": "375bc722",
   "metadata": {},
   "outputs": [
    {
     "name": "stdout",
     "output_type": "stream",
     "text": [
      "-0.010029850403422396\n",
      "1.0108478274184916\n"
     ]
    }
   ],
   "source": [
    "#8. Random.randn returns a sample or samples from the standard normal distribution (i.e. Zero mean and unit variance).\n",
    "a = np.random.randn(10000)\n",
    "print(a.mean())\n",
    "print(a.var())\n"
   ]
  },
  {
   "cell_type": "code",
   "execution_count": null,
   "id": "9551c85c",
   "metadata": {},
   "outputs": [],
   "source": [
    "pd.Series(a).plot('kde', figsize=(8,5))"
   ]
  },
  {
   "cell_type": "code",
   "execution_count": 83,
   "id": "4455a58c",
   "metadata": {},
   "outputs": [
    {
     "data": {
      "text/plain": [
       "array([5, 3, 4, 6, 7, 0, 9, 8, 2, 1])"
      ]
     },
     "execution_count": 83,
     "metadata": {},
     "output_type": "execute_result"
    }
   ],
   "source": [
    "# 9.  Random.shuffle modifies the sequence of an array by shuffling its elements.\n",
    "a=np.array([0,1,2,3,4,5,6,7,8,9])\n",
    "np.random.shuffle(a)\n",
    "a"
   ]
  },
  {
   "cell_type": "code",
   "execution_count": 85,
   "id": "93c180a2",
   "metadata": {},
   "outputs": [
    {
     "data": {
      "text/plain": [
       "array([[3, 4, 1, 4],\n",
       "       [4, 4, 8, 7],\n",
       "       [3, 4, 5, 5]])"
      ]
     },
     "execution_count": 85,
     "metadata": {},
     "output_type": "execute_result"
    }
   ],
   "source": [
    "#10. Reshape it changes the shape of an array. The overall size must be maintained\n",
    "A=np.random.randint(10, size=(3,4))\n",
    "A"
   ]
  },
  {
   "cell_type": "code",
   "execution_count": null,
   "id": "966a6824",
   "metadata": {},
   "outputs": [],
   "source": []
  },
  {
   "cell_type": "code",
   "execution_count": 86,
   "id": "6165f84e",
   "metadata": {},
   "outputs": [
    {
     "data": {
      "text/plain": [
       "array([[3, 4, 1, 4, 4, 4],\n",
       "       [8, 7, 3, 4, 5, 5]])"
      ]
     },
     "execution_count": 86,
     "metadata": {},
     "output_type": "execute_result"
    }
   ],
   "source": [
    "A.reshape(2,6)"
   ]
  },
  {
   "cell_type": "code",
   "execution_count": 87,
   "id": "66561d9d",
   "metadata": {},
   "outputs": [
    {
     "data": {
      "text/plain": [
       "array([[3, 4, 1, 4],\n",
       "       [4, 4, 8, 7],\n",
       "       [3, 4, 5, 5]])"
      ]
     },
     "execution_count": 87,
     "metadata": {},
     "output_type": "execute_result"
    }
   ],
   "source": [
    "A.reshape(-1,4)"
   ]
  },
  {
   "cell_type": "code",
   "execution_count": 88,
   "id": "e0d8985f",
   "metadata": {},
   "outputs": [
    {
     "data": {
      "text/plain": [
       "1"
      ]
     },
     "execution_count": 88,
     "metadata": {},
     "output_type": "execute_result"
    }
   ],
   "source": [
    "# 11. Expand_dims It expands the dimension of an array.\n",
    "a=np.array([1,2,3,4])\n",
    "a.ndim"
   ]
  },
  {
   "cell_type": "code",
   "execution_count": 89,
   "id": "164c887e",
   "metadata": {},
   "outputs": [
    {
     "data": {
      "text/plain": [
       "2"
      ]
     },
     "execution_count": 89,
     "metadata": {},
     "output_type": "execute_result"
    }
   ],
   "source": [
    "np.expand_dims(a,axis=0).ndim"
   ]
  },
  {
   "cell_type": "code",
   "execution_count": 92,
   "id": "69d216b9",
   "metadata": {},
   "outputs": [
    {
     "data": {
      "text/plain": [
       "82"
      ]
     },
     "execution_count": 92,
     "metadata": {},
     "output_type": "execute_result"
    }
   ],
   "source": [
    "#Count_nonzero returns the count of non-zero elements in an array which may come in handy when working with arrays with high sparsity\n",
    "a=np.random.randint(0,5, size=100)\n",
    "np.count_nonzero(a)"
   ]
  },
  {
   "cell_type": "code",
   "execution_count": 93,
   "id": "31ced7b2",
   "metadata": {},
   "outputs": [
    {
     "data": {
      "text/plain": [
       "array([[0, 0, 1],\n",
       "       [2, 2, 2]])"
      ]
     },
     "execution_count": 93,
     "metadata": {},
     "output_type": "execute_result"
    }
   ],
   "source": [
    "#Argwhere returns the indices of nonzero elements in an array.\n",
    "A=np.random.randint(3,size=(2,3))\n",
    "A"
   ]
  },
  {
   "cell_type": "code",
   "execution_count": 94,
   "id": "8fdf7c87",
   "metadata": {},
   "outputs": [
    {
     "data": {
      "text/plain": [
       "array([[0, 2],\n",
       "       [1, 0],\n",
       "       [1, 1],\n",
       "       [1, 2]], dtype=int64)"
      ]
     },
     "execution_count": 94,
     "metadata": {},
     "output_type": "execute_result"
    }
   ],
   "source": [
    "np.argwhere(A)"
   ]
  },
  {
   "cell_type": "code",
   "execution_count": 100,
   "id": "3ad18392",
   "metadata": {},
   "outputs": [
    {
     "data": {
      "text/plain": [
       "array([0., 0., 0.])"
      ]
     },
     "execution_count": 100,
     "metadata": {},
     "output_type": "execute_result"
    }
   ],
   "source": [
    "#14. Zeros, Ones, Full are three separate functions but what they do is very similar. They create arrays with zeros, ones, or a specific value.\n",
    "np.zeros(3)\n"
   ]
  },
  {
   "cell_type": "code",
   "execution_count": 101,
   "id": "039014e0",
   "metadata": {},
   "outputs": [
    {
     "data": {
      "text/plain": [
       "array([[1, 1, 1],\n",
       "       [1, 1, 1],\n",
       "       [1, 1, 1]])"
      ]
     },
     "execution_count": 101,
     "metadata": {},
     "output_type": "execute_result"
    }
   ],
   "source": [
    "\n",
    "np.ones((3,3), dtype='int32')"
   ]
  },
  {
   "cell_type": "code",
   "execution_count": 102,
   "id": "232f292e",
   "metadata": {},
   "outputs": [
    {
     "data": {
      "text/plain": [
       "array([[4.2, 4.2, 4.2],\n",
       "       [4.2, 4.2, 4.2]])"
      ]
     },
     "execution_count": 102,
     "metadata": {},
     "output_type": "execute_result"
    }
   ],
   "source": [
    "np.full ((2,3), fill_value=4.2)"
   ]
  },
  {
   "cell_type": "code",
   "execution_count": 103,
   "id": "865d7c4b",
   "metadata": {},
   "outputs": [
    {
     "data": {
      "text/plain": [
       "array([[1., 0., 0., 0.],\n",
       "       [0., 1., 0., 0.],\n",
       "       [0., 0., 1., 0.],\n",
       "       [0., 0., 0., 1.]])"
      ]
     },
     "execution_count": 103,
     "metadata": {},
     "output_type": "execute_result"
    }
   ],
   "source": [
    "#15Eye and Identity creates identity matrix with a specified dimension.\n",
    "np.eye(4)"
   ]
  },
  {
   "cell_type": "code",
   "execution_count": 104,
   "id": "a42d874b",
   "metadata": {},
   "outputs": [
    {
     "data": {
      "text/plain": [
       "array([[1., 0., 0.],\n",
       "       [0., 1., 0.],\n",
       "       [0., 0., 1.]])"
      ]
     },
     "execution_count": 104,
     "metadata": {},
     "output_type": "execute_result"
    }
   ],
   "source": [
    "np.identity(3)"
   ]
  },
  {
   "cell_type": "code",
   "execution_count": 106,
   "id": "60c6b446",
   "metadata": {},
   "outputs": [
    {
     "data": {
      "text/plain": [
       "array([1, 0, 2, 1, 3, 4])"
      ]
     },
     "execution_count": 106,
     "metadata": {},
     "output_type": "execute_result"
    }
   ],
   "source": [
    "# 16. Ravel returns a flattened array\n",
    "A= np.random.randint(5, size=(2,3))\n",
    "A\n",
    "\n",
    "\n",
    "np.ravel(A)"
   ]
  },
  {
   "cell_type": "code",
   "execution_count": 109,
   "id": "dece99de",
   "metadata": {},
   "outputs": [
    {
     "data": {
      "text/plain": [
       "array([[3, 0, 3, 3],\n",
       "       [0, 0, 3, 2],\n",
       "       [1, 2, 0, 0],\n",
       "       [2, 4, 1, 3]])"
      ]
     },
     "execution_count": 109,
     "metadata": {},
     "output_type": "execute_result"
    }
   ],
   "source": [
    "# 17. Hsplit and Vsplit split arrays vertically (vsplit) or horizontally (hsplit).\n",
    "A = np.random.randint(5, size=(4,4))\n",
    "A\n",
    "\n"
   ]
  },
  {
   "cell_type": "code",
   "execution_count": 110,
   "id": "27027a83",
   "metadata": {},
   "outputs": [
    {
     "data": {
      "text/plain": [
       "array([[3, 0],\n",
       "       [0, 0],\n",
       "       [1, 2],\n",
       "       [2, 4]])"
      ]
     },
     "execution_count": 110,
     "metadata": {},
     "output_type": "execute_result"
    }
   ],
   "source": [
    "np.hsplit(A,2)[0]"
   ]
  },
  {
   "cell_type": "code",
   "execution_count": 111,
   "id": "b04b9d3d",
   "metadata": {},
   "outputs": [
    {
     "data": {
      "text/plain": [
       "array([[3, 3],\n",
       "       [3, 2],\n",
       "       [0, 0],\n",
       "       [1, 3]])"
      ]
     },
     "execution_count": 111,
     "metadata": {},
     "output_type": "execute_result"
    }
   ],
   "source": [
    "np.hsplit(A, 2)[1]"
   ]
  },
  {
   "cell_type": "code",
   "execution_count": 112,
   "id": "c993e8ea",
   "metadata": {},
   "outputs": [
    {
     "data": {
      "text/plain": [
       "array([[3, 0, 3, 3],\n",
       "       [0, 0, 3, 2]])"
      ]
     },
     "execution_count": 112,
     "metadata": {},
     "output_type": "execute_result"
    }
   ],
   "source": [
    "np.vsplit(A,2)[0]"
   ]
  },
  {
   "cell_type": "code",
   "execution_count": 113,
   "id": "5e487314",
   "metadata": {},
   "outputs": [
    {
     "data": {
      "text/plain": [
       "array([[1, 2, 0, 0],\n",
       "       [2, 4, 1, 3]])"
      ]
     },
     "execution_count": 113,
     "metadata": {},
     "output_type": "execute_result"
    }
   ],
   "source": [
    "np.vsplit(A,2)[1]"
   ]
  },
  {
   "cell_type": "code",
   "execution_count": 114,
   "id": "35678918",
   "metadata": {},
   "outputs": [],
   "source": [
    "#18. Hstack and Vstack stack arrays horizontally (column-wise) and vertically (rows on top of each other)\n",
    "a=np.array([1,1,1,2])\n",
    "b= np.array([2,3,4,5])\n"
   ]
  },
  {
   "cell_type": "code",
   "execution_count": 115,
   "id": "f082bfcd",
   "metadata": {},
   "outputs": [
    {
     "data": {
      "text/plain": [
       "array([[1, 1, 1, 2],\n",
       "       [2, 3, 4, 5]])"
      ]
     },
     "execution_count": 115,
     "metadata": {},
     "output_type": "execute_result"
    }
   ],
   "source": [
    "np.vstack((a,b))"
   ]
  },
  {
   "cell_type": "code",
   "execution_count": null,
   "id": "7d4aac6d",
   "metadata": {},
   "outputs": [],
   "source": [
    "\n",
    "\n",
    "\n",
    "21. Round and Around\n",
    "Both of them round up the floats to a specified number of decimal points.\n",
    "\n",
    "\n",
    "We have covered only a part of the operations that we can do with NumPy. However, these are the operations that you are likely to use in a typical data analysis and manipulation process.\n",
    "\n",
    "NumPy proved to be a very flexible and efficient scientific computing library. It serves as a base for many Python libraries such as Pandas.\n",
    "\n",
    "Thank you for reading. Please let me know if you have any feedback.\n",
    "\n"
   ]
  },
  {
   "cell_type": "code",
   "execution_count": 116,
   "id": "9ff7ba57",
   "metadata": {},
   "outputs": [],
   "source": [
    "# 19. Transpose nsposes an array. In case of 2-dimensional arrays (i.e. matrix), transposing means switching rows and columns.\n",
    "A = np.random.randint(5, size=(3,4))"
   ]
  },
  {
   "cell_type": "code",
   "execution_count": 117,
   "id": "018f92df",
   "metadata": {},
   "outputs": [
    {
     "data": {
      "text/plain": [
       "array([[0, 2, 4],\n",
       "       [2, 4, 0],\n",
       "       [2, 0, 0],\n",
       "       [0, 1, 1]])"
      ]
     },
     "execution_count": 117,
     "metadata": {},
     "output_type": "execute_result"
    }
   ],
   "source": [
    "A.transpose()"
   ]
  },
  {
   "cell_type": "code",
   "execution_count": 120,
   "id": "185fa5ba",
   "metadata": {},
   "outputs": [
    {
     "data": {
      "text/plain": [
       "array([[ 2, -5,  3],\n",
       "       [-5, -2,  3]])"
      ]
     },
     "execution_count": 120,
     "metadata": {},
     "output_type": "execute_result"
    }
   ],
   "source": [
    "# 20. Abs and Absolute return the absolute values of elements in an array.\n",
    "A = np.random.randint(-5, 5, size=(2,3))\n",
    "A"
   ]
  },
  {
   "cell_type": "code",
   "execution_count": 122,
   "id": "26f67685",
   "metadata": {},
   "outputs": [
    {
     "data": {
      "text/plain": [
       "array([[2, 5, 3],\n",
       "       [5, 2, 3]])"
      ]
     },
     "execution_count": 122,
     "metadata": {},
     "output_type": "execute_result"
    }
   ],
   "source": [
    "np.abs(A)"
   ]
  },
  {
   "cell_type": "code",
   "execution_count": 123,
   "id": "3b2cada9",
   "metadata": {},
   "outputs": [
    {
     "data": {
      "text/plain": [
       "array([0.98823422, 0.03383282, 0.01961645, 0.08950119, 0.49867975])"
      ]
     },
     "execution_count": 123,
     "metadata": {},
     "output_type": "execute_result"
    }
   ],
   "source": [
    "# 21. Round and Around Both round up the floats to a specified number of decimal points.\n",
    "\n",
    "a=np.random.random(5)\n",
    "a"
   ]
  },
  {
   "cell_type": "code",
   "execution_count": 124,
   "id": "870c791e",
   "metadata": {},
   "outputs": [
    {
     "data": {
      "text/plain": [
       "array([0.99, 0.03, 0.02, 0.09, 0.5 ])"
      ]
     },
     "execution_count": 124,
     "metadata": {},
     "output_type": "execute_result"
    }
   ],
   "source": [
    "np.round(a,2)"
   ]
  },
  {
   "cell_type": "code",
   "execution_count": 125,
   "id": "8a6843e8",
   "metadata": {},
   "outputs": [
    {
     "data": {
      "text/plain": [
       "array([0.988, 0.034, 0.02 , 0.09 , 0.499])"
      ]
     },
     "execution_count": 125,
     "metadata": {},
     "output_type": "execute_result"
    }
   ],
   "source": [
    "np.round(a,3)"
   ]
  },
  {
   "cell_type": "code",
   "execution_count": null,
   "id": "6a6bfbbd",
   "metadata": {},
   "outputs": [],
   "source": []
  }
 ],
 "metadata": {
  "kernelspec": {
   "display_name": "Python 3 (ipykernel)",
   "language": "python",
   "name": "python3"
  },
  "language_info": {
   "codemirror_mode": {
    "name": "ipython",
    "version": 3
   },
   "file_extension": ".py",
   "mimetype": "text/x-python",
   "name": "python",
   "nbconvert_exporter": "python",
   "pygments_lexer": "ipython3",
   "version": "3.9.12"
  }
 },
 "nbformat": 4,
 "nbformat_minor": 5
}
