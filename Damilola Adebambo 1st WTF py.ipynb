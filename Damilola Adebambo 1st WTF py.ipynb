{
 "cells": [
  {
   "cell_type": "code",
   "execution_count": null,
   "id": "1fcabd98",
   "metadata": {},
   "outputs": [],
   "source": [
    ") Print all elements of a list using for loop\n",
    "2) A company decided to give bonus of 5% to employee if his/her year of service is more than 5\n",
    "years. Ask user for their salary and year of service and print the net bonus amount.\n",
    "3) Take input of age of 3 people by user and determine oldest and youngest among them.\n",
    "4) A school has following rules for grading system:\n",
    "a. Below 25 - F\n",
    "b. 25 to 45 - E\n",
    "c. 45 to 50 - D\n",
    "d. 50 to 60 - C\n",
    "e. 60 to 80 - B\n",
    "f. Above 80 - A\n",
    "5) Ask user to enter marks and print the corresponding grade.\n",
    "6) Write a Python script to merge two Python dictionaries\n",
    "7) Write a python program to get the largest number from a list\n",
    "8) Write a python program to remove a key from a dictionary"
   ]
  },
  {
   "cell_type": "code",
   "execution_count": null,
   "id": "bb1cf971",
   "metadata": {},
   "outputs": [],
   "source": []
  },
  {
   "cell_type": "code",
   "execution_count": 2,
   "id": "dc4870c3",
   "metadata": {},
   "outputs": [
    {
     "name": "stdout",
     "output_type": "stream",
     "text": [
      "6\n",
      "8\n",
      "10\n",
      "12\n",
      "1\n",
      "5\n"
     ]
    }
   ],
   "source": [
    "#1. Print all elements of a list using for loop\n",
    "Primary_one=[6,8,10,12,1,5]\n",
    "for items in Primary_one:\n",
    "    print(items)\n",
    "    "
   ]
  },
  {
   "cell_type": "code",
   "execution_count": 7,
   "id": "6dcb2685",
   "metadata": {},
   "outputs": [
    {
     "name": "stdout",
     "output_type": "stream",
     "text": [
      "enter year of service2\n",
      "enter your salary500000\n",
      "500000.0\n"
     ]
    }
   ],
   "source": [
    "#2. A company decided to give bonus of 5% to employee if his/her year of service is more than 5\n",
    "#years. Ask user for their salary and year of service and print the net bonus amount.\n",
    "\n",
    "year_service= int(input(\"enter year of service\"))\n",
    "salary=float(input(\"enter your salary\"))\n",
    "if year_service > 5:\n",
    "    net_bonus= salary*0.05\n",
    "    print(net_bonus)\n",
    "else:\n",
    "    print(salary)\n"
   ]
  },
  {
   "cell_type": "code",
   "execution_count": 9,
   "id": "cb0015e2",
   "metadata": {},
   "outputs": [
    {
     "name": "stdout",
     "output_type": "stream",
     "text": [
      "enter your age10\n",
      "enter your age15\n",
      "enter your age20\n",
      "oldest is  20\n",
      "youngest is  10\n"
     ]
    }
   ],
   "source": [
    "#3. Take input of age of 3 people by user and determine oldest and youngest among them.\n",
    "age1=int(input(\"enter your age\"))\n",
    "age2=int(input(\"enter your age\"))\n",
    "age3=int(input(\"enter your age\"))\n",
    "list=[age1,age2,age3]\n",
    "print(\"oldest is \", max(list))\n",
    "print(\"youngest is \", min(list))"
   ]
  },
  {
   "cell_type": "code",
   "execution_count": null,
   "id": "a16d8dbe",
   "metadata": {},
   "outputs": [],
   "source": [
    "#3. Take input of age of 3 people by user and determine oldest and youngest among them.\n",
    "age1=int(input(\"enter your age person1: \"))\n",
    "age2=int(input(\"enter your age person2: \"))\n",
    "age3=int(input(\"enter your age person3: \"))\n",
    "print()\n",
    "if (age1 > age2) & (age1>age3):\n",
    "    print(\"person1 is the oldest\")\n",
    "    if age2 < age3:\n",
    "        print(\"person3 is the youngest\")\n",
    "elif age2<age3:\n",
    "        print(\"person2 is the youngest\")\n",
    "        else:\n",
    "            print(\"print person3 is the youngest\")"
   ]
  },
  {
   "cell_type": "code",
   "execution_count": null,
   "id": "75dc3d72",
   "metadata": {},
   "outputs": [],
   "source": [
    "#4. A school has following rules for grading system:\n",
    "#a. Below 25 - F\n",
    "#b. 25 to 45 - E\n",
    "#c. 45 to 50 - D\n",
    "#d. 50 to 60 - C\n",
    "#e. 60 to 80 - B\n",
    "#f. Above 80 - A\n",
    "#Ask user to enter marks and print the corresponding grade.\n",
    "\n",
    "grade_F=(<25)\n",
    "grade_E=\n",
    "grade_D\n",
    "grade_\n"
   ]
  },
  {
   "cell_type": "code",
   "execution_count": 24,
   "id": "26b7ee2b",
   "metadata": {},
   "outputs": [
    {
     "name": "stdout",
     "output_type": "stream",
     "text": [
      "enter your marks100\n",
      "F\n"
     ]
    }
   ],
   "source": [
    "marks = int(input(\"enter your marks\"))\n",
    "if 25 < marks:\n",
    "    print(\"F\")\n",
    "elif 25 < marks <=45:\n",
    "    print(\"E\")\n",
    "elif 45 < marks <= 50:\n",
    "    print(\"D\")\n",
    "elif 50 < marks <= 60:\n",
    "    print(\"C\")\n",
    "elif 60 < marks <= 80:\n",
    "    print(\"B\")\n",
    "elif marks > 80:\n",
    "    print(\"A\")"
   ]
  },
  {
   "cell_type": "code",
   "execution_count": 22,
   "id": "33fbfa86",
   "metadata": {},
   "outputs": [
    {
     "name": "stdout",
     "output_type": "stream",
     "text": [
      "enter your marks100\n",
      "E\n"
     ]
    }
   ],
   "source": [
    "marks=int(input(\"enter your marks\"))\n",
    "if marks < 25:\n",
    "    print(\"F\")\n",
    "elif marks>=25 & marks<45:\n",
    "    print(\"E\")\n",
    "elif marks >= 45 & marks<50:\n",
    "    print(\"D\")\n",
    "elif marks >= 50 & marks<60:\n",
    "    print(\"C\")\n",
    "elif marks >= 60 & marks<80:\n",
    "    print(\"B\")\n",
    "else:\n",
    "    print(\"A\")"
   ]
  },
  {
   "cell_type": "code",
   "execution_count": 26,
   "id": "f8089931",
   "metadata": {},
   "outputs": [
    {
     "name": "stdout",
     "output_type": "stream",
     "text": [
      "enter your marks: 15\n",
      "F\n"
     ]
    }
   ],
   "source": [
    "marks=int(input(\"enter your marks: \"))\n",
    "if marks < 25:\n",
    "    print(\"F\")\n",
    "elif 25 < marks <= 45:\n",
    "    print(\"E\")\n",
    "elif 45 < marks <= 50:\n",
    "    print(\"D\")\n",
    "elif 50 < marks <= 60:\n",
    "    print(\"C\")\n",
    "elif 60 < marks <= 80:\n",
    "    print(\"B\")\n",
    "elif marks > 80:\n",
    "    print(\"A\")"
   ]
  },
  {
   "cell_type": "code",
   "execution_count": 33,
   "id": "e8bd2e3f",
   "metadata": {},
   "outputs": [
    {
     "name": "stdout",
     "output_type": "stream",
     "text": [
      "{'seth': 5, 'joy': 8, 'ife': 3, 'tom': 11, 'lin': 15}\n"
     ]
    }
   ],
   "source": [
    "#Write a Python script to merge two Python dictionaries\n",
    "nursery_one={\"seth\": 5, \"joy\": 8, \"ife\": 3}\n",
    "nursery_two={\"tom\": 11, \"lin\": 15}\n",
    "nursery= nursery_one.copy()\n",
    "nursery.update(nursery_two)\n",
    "print(nursery)"
   ]
  },
  {
   "cell_type": "code",
   "execution_count": 35,
   "id": "2102cffc",
   "metadata": {},
   "outputs": [
    {
     "name": "stdout",
     "output_type": "stream",
     "text": [
      "{'seth': 5, 'joy': 8, 'ife': 3, 'tom': 11, 'lin': 15}\n"
     ]
    }
   ],
   "source": [
    "nursery_one={\"seth\": 5, \"joy\": 8, \"ife\": 3}\n",
    "nursery_two={\"tom\": 11, \"lin\": 15}\n",
    "nursery_one.update(nursery_two)\n",
    "print(nursery_one)"
   ]
  },
  {
   "cell_type": "code",
   "execution_count": 38,
   "id": "ce9c5b45",
   "metadata": {},
   "outputs": [
    {
     "name": "stdout",
     "output_type": "stream",
     "text": [
      "32\n",
      "74\n",
      "74\n",
      "74\n",
      "74\n",
      "100\n",
      "100\n",
      "100\n"
     ]
    }
   ],
   "source": [
    "#Write a python program to get the largest number from a list\n",
    "largest = 0\n",
    "for value in [32, 74, 5, 9, 28, 100, 2, 9]:\n",
    "    if value > largest:\n",
    "        largest=value\n",
    "    print(largest)\n"
   ]
  },
  {
   "cell_type": "code",
   "execution_count": 41,
   "id": "ba32b7fb",
   "metadata": {},
   "outputs": [
    {
     "name": "stdout",
     "output_type": "stream",
     "text": [
      "100\n"
     ]
    }
   ],
   "source": [
    "def largest_num (list):\n",
    "    max = list[0]\n",
    "    for a in list:\n",
    "        if a > max:\n",
    "            max = a\n",
    "    return max\n",
    "print(largest_num([32, 74, 5, 9, 28, 100, 9]))\n"
   ]
  },
  {
   "cell_type": "code",
   "execution_count": 42,
   "id": "4b75d75c",
   "metadata": {},
   "outputs": [
    {
     "name": "stdout",
     "output_type": "stream",
     "text": [
      "{'seth': 5, 'joy': 8, 'ife': 3, 'nax': 19, 'tom': 11, 'lin': 15}\n",
      "{'seth': 5, 'joy': 8, 'ife': 3, 'tom': 11, 'lin': 15}\n"
     ]
    }
   ],
   "source": [
    "#Write a python program to remove a key from a dictionary\n",
    "clas={'seth': 5, 'joy': 8, 'ife': 3, 'nax': 19, 'tom': 11, 'lin': 15}\n",
    "print(clas)\n",
    "if 'nax' in clas:\n",
    "    del clas ['nax']\n",
    "print(clas)\n"
   ]
  },
  {
   "cell_type": "code",
   "execution_count": null,
   "id": "8eb931d5",
   "metadata": {},
   "outputs": [],
   "source": []
  }
 ],
 "metadata": {
  "kernelspec": {
   "display_name": "Python 3 (ipykernel)",
   "language": "python",
   "name": "python3"
  },
  "language_info": {
   "codemirror_mode": {
    "name": "ipython",
    "version": 3
   },
   "file_extension": ".py",
   "mimetype": "text/x-python",
   "name": "python",
   "nbconvert_exporter": "python",
   "pygments_lexer": "ipython3",
   "version": "3.9.12"
  }
 },
 "nbformat": 4,
 "nbformat_minor": 5
}
